{
 "cells": [
  {
   "cell_type": "markdown",
   "metadata": {},
   "source": [
    "# Introduction\n",
    "\n",
    "QA plots for the TPC detector"
   ]
  },
  {
   "cell_type": "code",
   "execution_count": 1,
   "metadata": {},
   "outputs": [],
   "source": [
    "# imports to write dynamic markdown contents\n",
    "import os\n",
    "from IPython.display import display, Markdown, Latex\n",
    "from IPython.display import HTML"
   ]
  },
  {
   "cell_type": "code",
   "execution_count": 2,
   "metadata": {},
   "outputs": [
    {
     "data": {
      "text/markdown": [
       "*For the result HTML page:* "
      ],
      "text/plain": [
       "<IPython.core.display.Markdown object>"
      ]
     },
     "metadata": {},
     "output_type": "display_data"
    },
    {
     "data": {
      "text/html": [
       "<script>\n",
       "code_show=true; \n",
       "function code_toggle() {\n",
       " if (code_show){\n",
       " $('div.input').hide();\n",
       " } else {\n",
       " $('div.input').show();\n",
       " }\n",
       " code_show = !code_show\n",
       "} \n",
       "$( document ).ready(code_toggle);\n",
       "</script>\n",
       "<form action=\"javascript:code_toggle()\"><input type=\"submit\" value=\"Click here to toggle on/off the raw code.\"></form>"
      ],
      "text/plain": [
       "<IPython.core.display.HTML object>"
      ]
     },
     "execution_count": 2,
     "metadata": {},
     "output_type": "execute_result"
    }
   ],
   "source": [
    "# turn off/on code for the result HTML page\n",
    "\n",
    "display(Markdown('*For the result HTML page:* '))\n",
    "    \n",
    "HTML('''<script>\n",
    "code_show=true; \n",
    "function code_toggle() {\n",
    " if (code_show){\n",
    " $('div.input').hide();\n",
    " } else {\n",
    " $('div.input').show();\n",
    " }\n",
    " code_show = !code_show\n",
    "} \n",
    "$( document ).ready(code_toggle);\n",
    "</script>\n",
    "<form action=\"javascript:code_toggle()\"><input type=\"submit\" value=\"Click here to toggle on/off the raw code.\"></form>''')"
   ]
  },
  {
   "cell_type": "markdown",
   "metadata": {},
   "source": [
    "## `pyROOT` env check"
   ]
  },
  {
   "cell_type": "code",
   "execution_count": 3,
   "metadata": {},
   "outputs": [
    {
     "name": "stdout",
     "output_type": "stream",
     "text": [
      "Welcome to JupyROOT 6.22/02\n"
     ]
    },
    {
     "data": {
      "text/markdown": [
       "via sPHENIX software distribution at `/cvmfs/sphenix.sdcc.bnl.gov/gcc-8.3/release/release_new/new.3`"
      ],
      "text/plain": [
       "<IPython.core.display.Markdown object>"
      ]
     },
     "metadata": {},
     "output_type": "display_data"
    }
   ],
   "source": [
    "import ROOT\n",
    "\n",
    "OFFLINE_MAIN = os.getenv(\"OFFLINE_MAIN\")\n",
    "if OFFLINE_MAIN is not None:\n",
    "    display(Markdown(f\"via sPHENIX software distribution at `{OFFLINE_MAIN}`\"))"
   ]
  },
  {
   "cell_type": "markdown",
   "metadata": {},
   "source": [
    "\n",
    "# Initialization"
   ]
  },
  {
   "cell_type": "code",
   "execution_count": 4,
   "metadata": {
    "scrolled": true
   },
   "outputs": [],
   "source": [
    "%%cpp -d\n",
    "\n",
    "\n",
    "#include <sPhenixStyle.C>\n",
    "\n",
    "#include <TFile.h>\n",
    "#include <TLine.h>\n",
    "#include <TString.h>\n",
    "#include <TTree.h>\n",
    "#include <cassert>\n",
    "#include <cmath>"
   ]
  },
  {
   "cell_type": "code",
   "execution_count": 5,
   "metadata": {
    "tags": []
   },
   "outputs": [
    {
     "name": "stdout",
     "output_type": "stream",
     "text": [
      "sPhenixStyle: Applying nominal settings.\n",
      "sPhenixStyle: ROOT6 mode\n"
     ]
    }
   ],
   "source": [
    "%%cpp\n",
    "\n",
    "SetsPhenixStyle();\n",
    "TVirtualFitter::SetDefaultFitter(\"Minuit2\");\n"
   ]
  },
  {
   "cell_type": "markdown",
   "metadata": {},
   "source": [
    "## Inputs and file checks"
   ]
  },
  {
   "cell_type": "code",
   "execution_count": 6,
   "metadata": {
    "scrolled": true
   },
   "outputs": [],
   "source": [
    "%%cpp\n",
    "\n",
    "// TFile *qa_file_new = new TFile(\"singleElectron.lst_BECAL.200k.root\");\n",
    "TFile *qa_file_new = new TFile(\"singlePionNeg.lst_BECAL_5000000.root\");\n",
    "\n",
    "\n",
    "    \n",
    "if (qa_file_new == nullptr) \n",
    "{\n",
    "    cout <<\"Error, can not open QA root file\"<<qa_file_name_new<<endl;\n",
    "    exit(1);\n",
    "}\n",
    "\n",
    "TTree * T = nullptr; \n",
    "\n",
    "qa_file_new->GetObject(\"T\", T);\n",
    "\n",
    "    \n",
    "if (T == nullptr) \n",
    "{\n",
    "    cout <<\"Error, can not open T Tree\"<<endl;\n",
    "    exit(1);\n",
    "}"
   ]
  },
  {
   "cell_type": "markdown",
   "metadata": {},
   "source": [
    "# What is in the TTree\n",
    "\n",
    "Every entry is for one truth particle \n",
    "\n",
    "* `m_truth*`: is the MC truth information\n",
    "  - `m_truthpid`: is the PID in PDG convension\n",
    "* `m_tr*`: is the recontructed track information\n",
    "* `BECAL_proj_*`: is the Kalman filter track projection to the reference radius of BECAL\n",
    "* `Tower_E3x3...7x7`: is using the track projection as seed and build 3x3 to 7x7 tower energy sum \n",
    "* `centralTowerBinEta` and `centralTowerBinPhi`: are the tower at the track projection\n",
    "* `Tower_*` is the 1D array for towers in a 7x7 patch next to the track projection. \n",
    "  - `dEta/phi` are tower to track distance in eta/phi scale. \n",
    "  - `iEta_patch/phi` are tower id in the patch relative to the central tower\n",
    "  - `E` are energy of that tower\n",
    "  "
   ]
  },
  {
   "cell_type": "code",
   "execution_count": 7,
   "metadata": {
    "scrolled": true
   },
   "outputs": [
    {
     "name": "stdout",
     "output_type": "stream",
     "text": [
      "======> EVENT:0\n",
      " m_truthenergy   = 15.4452\n",
      " m_truthp        = 15.4445\n",
      " m_truthpx       = 0.822778\n",
      " m_truthpy       = -10.1505\n",
      " m_truthpz       = 11.6113\n",
      " m_truthpt       = 10.1838\n",
      " m_truthphi      = -1.48992\n",
      " m_trutheta      = 0.977033\n",
      " m_truthpid      = -211\n",
      " m_tr_px         = 0.831025\n",
      " m_tr_py         = -10.2463\n",
      " m_tr_pz         = 11.7219\n",
      " m_tr_p          = 15.5911\n",
      " m_tr_pt         = 10.28\n",
      " m_tr_phi        = -1.48987\n",
      " m_tr_eta        = 0.977166\n",
      " m_charge        = -1\n",
      " m_chisq         = 16.094\n",
      " m_ndf           = 13\n",
      " m_dca           = 0.00040753\n",
      " m_tr_x          = -0.000383885\n",
      " m_tr_y          = -3.16222e-05\n",
      " m_tr_z          = -3.28356\n",
      " BECAL_proj_x    = 11.0336\n",
      " BECAL_proj_y    = -107.184\n",
      " BECAL_proj_z    = 119.591\n",
      " BECAL_proj_path_length = 163.432\n",
      " BECAL_proj_px   = 1.26405\n",
      " BECAL_proj_py   = -10.1836\n",
      " BECAL_proj_pz   = 11.7018\n",
      " Tower_E3x3      = 5.0436\n",
      " Tower_E5x5      = 6.5314\n",
      " Tower_E7x7      = 7.3044\n",
      " centralTowerBinEta = 9\n",
      " centralTowerBinPhi = 99\n",
      " nTowerInPatch   = 49\n",
      " Tower_dEta      = -0.112915, \n",
      "                  -0.112915, -0.112915, -0.112915, -0.112915, -0.112915, \n",
      "                  -0.112915, -0.0726384, -0.0726384, -0.0726384, -0.0726384, \n",
      "                  -0.0726384, -0.0726384, -0.0726384, -0.0320466, -0.0320466, \n",
      "                  -0.0320466, -0.0320466, -0.0320466, -0.0320466\n",
      " Tower_dPhi      = 0.127084, \n",
      "                  0.0779962, 0.0289089, -0.0201785, -0.0692659, -0.118353, \n",
      "                  -0.167441, 0.127084, 0.0779962, 0.0289088, -0.0201786, \n",
      "                  -0.069266, -0.118353, -0.167441, 0.127084, 0.0779962, \n",
      "                  0.0289088, -0.0201786, -0.069266, -0.118353\n",
      " Tower_iEta_patch = -3, \n",
      "                  -3, -3, -3, -3, -3, -3, -2, -2, -2, -2, \n",
      "                  -2, -2, -2, -1, -1, -1, -1, -1, -1\n",
      " Tower_iPhi_patch = -3, \n",
      "                  -2, -1, 0, 1, 2, 3, -3, -2, -1, 0, \n",
      "                  1, 2, 3, -3, -2, -1, 0, 1, 2\n",
      " Tower_E         = 0.0038, \n",
      "                  0.0492, 0.0254, 0.1876, 0.0124, 0.0094, \n",
      "                  0.0016, 0.0054, 0.0466, 0.0832, 0.5692, \n",
      "                  0.0448, 0.0048, 0.0042, 0.1306, 0.0966, \n",
      "                  0.2074, 0.5976, 0.0614, 0.005\n"
     ]
    }
   ],
   "source": [
    "%%cpp\n",
    "T->Show(0);"
   ]
  },
  {
   "cell_type": "markdown",
   "metadata": {
    "tags": []
   },
   "source": [
    "# Suggestion\n",
    "\n",
    "General event selection: \n",
    "\n",
    "`abs(m_tr_p/m_truthp)<5%`, i.e. the track that can be propery reconstructed and useful for analysis. This kick out the electron with hard bremsstrahlung, which is a quite different problem to deal with. We probably want to run the classification with each eta and momentum bin. The current sample is generated within |eta|<0.5, in which BCAL performance is similar. And the momentum cover from 0-20GeV, and we can probably focus on the 2-4 GeV region where physics impact is max.\n",
    "\n",
    "Select the follow features in NN classifier input, which take into account of the azimuthal symmetry: \n",
    "\n",
    "* `m_tr_p`\n",
    "* `m_tr_phi`\n",
    "* `m_tr_eta`\n",
    "* `Tower_dEta[49]`\n",
    "* `Tower_dPhi[49]`\n",
    "* `Tower_E[49]`\n",
    "\n",
    "And then I would expect NN should learn about both e/p and shower shape from these variables \n",
    "\n",
    "Last to compare ROC curves with \n",
    "\n",
    "* `E5x5/m_tr_p` cut only\n",
    "* cut on NN classification output\n",
    "\n",
    "We should see a big improvement over all electron efficiency region."
   ]
  },
  {
   "cell_type": "markdown",
   "metadata": {},
   "source": [
    "# Check plot\n",
    "\n",
    "## E/p\n",
    "\n",
    "Check 7x7 tower sum next to track projection vs turth or reco momentum"
   ]
  },
  {
   "cell_type": "code",
   "execution_count": null,
   "metadata": {},
   "outputs": [],
   "source": [
    "%%cpp\n",
    "\n",
    "{\n",
    "\n",
    "    \n",
    "    const char *hist_name_prefix = \"TowerScan\";\n",
    "    auto c1 = new TCanvas(TString(\"TowerScan\") ,\n",
    "                        TString(\"TowerScan\"),\n",
    "                        1800, 1550);\n",
    "\n",
    "    c1->Divide(3, 2);\n",
    "    int idx = 1;\n",
    "    TPad *p;\n",
    "\n",
    "    {\n",
    "        p = (TPad *) c1->cd(idx++);\n",
    "        c1->Update();\n",
    "        // p->SetLogy();\n",
    "        \n",
    "        T->Draw(\"Tower_E7x7/m_truthp:m_truthp\",\"\",\"colz\");\n",
    "        \n",
    "    }\n",
    "    {\n",
    "        p = (TPad *) c1->cd(idx++);\n",
    "        c1->Update();\n",
    "        // p->SetLogy();\n",
    "        \n",
    "        T->Draw(\"Tower_E7x7/m_tr_p:m_truthp\",\"m_tr_p>0\",\"colz\");\n",
    "    }\n",
    "    {\n",
    "        p = (TPad *) c1->cd(idx++);\n",
    "        c1->Update();\n",
    "        // p->SetLogy();\n",
    "        \n",
    "        T->Draw(\"m_tr_p/m_truthp:m_truthp\",\"m_tr_p>0\",\"colz\");\n",
    "    }\n",
    "    {\n",
    "        p = (TPad *) c1->cd(idx++);\n",
    "        c1->Update();\n",
    "        p->SetLogy();\n",
    "        \n",
    "        T->Draw(\"m_tr_p/m_truthp\",\"m_tr_p>0\");\n",
    "    }\n",
    "    \n",
    "    {\n",
    "        p = (TPad *) c1->cd(idx++);\n",
    "        c1->Update();\n",
    "        //p->SetLogy();\n",
    "        \n",
    "        T->Draw(\"m_tr_eta:m_trutheta\",\"m_tr_p>0\");\n",
    "    }\n",
    "    {\n",
    "        p = (TPad *) c1->cd(idx++);\n",
    "        c1->Update();\n",
    "        //p->SetLogy();\n",
    "        \n",
    "        T->Draw(\"m_tr_phi:m_truthphi\",\"m_tr_p>0\");\n",
    "    }\n",
    "    \n",
    "    \n",
    "    \n",
    "    c1->Draw();\n",
    "}"
   ]
  },
  {
   "cell_type": "markdown",
   "metadata": {},
   "source": [
    "## Track based shower profile check\n",
    "\n",
    "### Shower shape in 7x7 tower patch grid\n",
    "\n",
    "Check 7x7 tower patch next to the track projection with weight of the tower energy\n"
   ]
  },
  {
   "cell_type": "code",
   "execution_count": null,
   "metadata": {},
   "outputs": [],
   "source": [
    "%%cpp\n",
    "\n",
    "{\n",
    "\n",
    "    \n",
    "    const char *hist_name_prefix = \"TowerScan\";\n",
    "    auto c1 = new TCanvas(TString(\"TowerScan\") ,\n",
    "                        TString(\"TowerScan\"),\n",
    "                        1800, 1800);\n",
    "\n",
    "    c1->Divide(2, 2);\n",
    "    int idx = 1;\n",
    "    TPad *p;\n",
    "\n",
    "    {\n",
    "        p = (TPad *) c1->cd(idx++);\n",
    "        c1->Update();\n",
    "        // p->SetLogy();\n",
    "        \n",
    "        new TH2F(\"hpatch2D\",\";eta bin in patch;phi bin in patch\",7,-3.5,3.5,7,-3.5,3.5);\n",
    "        T->Draw(\"Tower_iPhi_patch:Tower_iEta_patch>>hpatch2D\",\"Tower_E\",\"colz\");\n",
    "        \n",
    "    }\n",
    "\n",
    "    {\n",
    "        p = (TPad *) c1->cd(idx++);\n",
    "        c1->Update();\n",
    "        p->SetLogy();\n",
    "        \n",
    "        new TH1F(\"hpatchPhi\",\";Phi bin in patch\",7,-3.5,3.5);\n",
    "        T->Draw(\"Tower_iPhi_patch>>hpatchPhi\",\"Tower_E\",\"colz\");\n",
    "        \n",
    "    }\n",
    "\n",
    "    {\n",
    "        p = (TPad *) c1->cd(idx++);\n",
    "        c1->Update();\n",
    "        p->SetLogy();\n",
    "        \n",
    "        new TH1F(\"hpatchEta\",\";Eta bin in patch\",7,-3.5,3.5);\n",
    "        T->Draw(\"Tower_iEta_patch>>hpatchEta\",\"Tower_E\",\"colz\");\n",
    "        \n",
    "    }\n",
    "    \n",
    "    {\n",
    "        p = (TPad *) c1->cd(idx++);\n",
    "        c1->Update();\n",
    "         p->SetLogy();\n",
    "        \n",
    "        new TH1F(\"hE7x7pTruth\",\";E_{7x7}/p_{reco}\",100,0,1.5);\n",
    "        T->Draw(\"Tower_E7x7/m_tr_p>>hE7x7pTruth\");\n",
    "    }\n",
    "    \n",
    "    \n",
    "    \n",
    "    c1->Draw();\n",
    "}"
   ]
  },
  {
   "cell_type": "markdown",
   "metadata": {},
   "source": [
    "### shower shape in eta phi distance"
   ]
  },
  {
   "cell_type": "code",
   "execution_count": null,
   "metadata": {},
   "outputs": [],
   "source": [
    "%%cpp\n",
    "\n",
    "{\n",
    "\n",
    "    \n",
    "    const char *hist_name_prefix = \"TowerScan\";\n",
    "    auto c1 = new TCanvas(TString(\"TowerScan\") ,\n",
    "                        TString(\"TowerScan\"),\n",
    "                        1800, 1800);\n",
    "\n",
    "    c1->Divide(2, 2);\n",
    "    int idx = 1;\n",
    "    TPad *p;\n",
    "\n",
    "    {\n",
    "        p = (TPad *) c1->cd(idx++);\n",
    "        c1->Update();\n",
    "        // p->SetLogy();\n",
    "        \n",
    "        new TH2F(\"hpatch2D\",\";eta distance tower-track;phi distance tower-track\",100,-.2,.2, 100,-.2,.2);\n",
    "        T->Draw(\"Tower_dPhi:Tower_dEta>>hpatch2D\",\"Tower_E\",\"colz\");\n",
    "        \n",
    "    }\n",
    "\n",
    "    {\n",
    "        p = (TPad *) c1->cd(idx++);\n",
    "        c1->Update();\n",
    "        p->SetLogy();\n",
    "        \n",
    "        new TH1F(\"hpatchPhi\",\";phi distance tower-track\",100,-.15,.15);\n",
    "        T->Draw(\"Tower_dPhi>>hpatchPhi\",\"Tower_E\",\"colz\");\n",
    "        \n",
    "    }\n",
    "\n",
    "    {\n",
    "        p = (TPad *) c1->cd(idx++);\n",
    "        c1->Update();\n",
    "        p->SetLogy();\n",
    "        \n",
    "        new TH1F(\"hpatchEta\",\";eta distance tower-track\",100,-.15,.15);\n",
    "        T->Draw(\"Tower_dEta>>hpatchEta\",\"Tower_E\",\"colz\");\n",
    "        \n",
    "    }\n",
    "    \n",
    "    {\n",
    "        p = (TPad *) c1->cd(idx++);\n",
    "        c1->Update();\n",
    "         p->SetLogy();\n",
    "        \n",
    "        new TH1F(\"hE7x7pTruth\",\";E_{7x7}/p_{reco}\",35,0,1.5);\n",
    "        T->Draw(\"Tower_E7x7/m_tr_p>>hE7x7pTruth\");\n",
    "    }\n",
    "    \n",
    "    \n",
    "    \n",
    "    c1->Draw();\n",
    "}"
   ]
  },
  {
   "cell_type": "code",
   "execution_count": null,
   "metadata": {},
   "outputs": [],
   "source": []
  },
  {
   "cell_type": "code",
   "execution_count": null,
   "metadata": {},
   "outputs": [],
   "source": []
  }
 ],
 "metadata": {
  "kernelspec": {
   "display_name": "Python (sPHENIX)",
   "language": "python",
   "name": "sphenix-env"
  },
  "language_info": {
   "codemirror_mode": {
    "name": "ipython",
    "version": 3
   },
   "file_extension": ".py",
   "mimetype": "text/x-python",
   "name": "python",
   "nbconvert_exporter": "python",
   "pygments_lexer": "ipython3",
   "version": "3.8.0"
  }
 },
 "nbformat": 4,
 "nbformat_minor": 4
}
